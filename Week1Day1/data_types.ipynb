{
 "cells": [
  {
   "cell_type": "code",
   "execution_count": 2,
   "id": "a85ee44f",
   "metadata": {},
   "outputs": [
    {
     "name": "stdout",
     "output_type": "stream",
     "text": [
      "Hello World\n"
     ]
    }
   ],
   "source": [
    "print(\"Hello World\")"
   ]
  },
  {
   "cell_type": "code",
   "execution_count": 4,
   "id": "10eea316",
   "metadata": {},
   "outputs": [
    {
     "name": "stdout",
     "output_type": "stream",
     "text": [
      "Integer =  5\n"
     ]
    }
   ],
   "source": [
    "#integer\n",
    "\n",
    "x = 5\n",
    "print(\"Integer = \",x)\n"
   ]
  },
  {
   "cell_type": "code",
   "execution_count": null,
   "id": "45c2e130",
   "metadata": {},
   "outputs": [
    {
     "name": "stdout",
     "output_type": "stream",
     "text": [
      "Float =  9.245 & 4.78234288976246\n"
     ]
    }
   ],
   "source": [
    "#float\n",
    "\n",
    "y = 9.245\n",
    "z = 4.78234288976246\n",
    "print(\"Float = \", y, \"&\", z)\n"
   ]
  },
  {
   "cell_type": "code",
   "execution_count": 8,
   "id": "c1b646d3",
   "metadata": {},
   "outputs": [
    {
     "name": "stdout",
     "output_type": "stream",
     "text": [
      "String =  Nazmul Shawon\n"
     ]
    }
   ],
   "source": [
    "#string\n",
    "\n",
    "name = \"Nazmul Shawon\"\n",
    "print(\"String = \", name)\n"
   ]
  },
  {
   "cell_type": "code",
   "execution_count": null,
   "id": "f4d59d1d",
   "metadata": {},
   "outputs": [
    {
     "name": "stdout",
     "output_type": "stream",
     "text": [
      "Bool =  True\n"
     ]
    }
   ],
   "source": [
    "#boolean (Value fixed which are True & False)\n",
    "\n",
    "b = True\n",
    "print(\"Bool = \",b)\n"
   ]
  }
 ],
 "metadata": {
  "kernelspec": {
   "display_name": "mljobVenv",
   "language": "python",
   "name": "python3"
  },
  "language_info": {
   "codemirror_mode": {
    "name": "ipython",
    "version": 3
   },
   "file_extension": ".py",
   "mimetype": "text/x-python",
   "name": "python",
   "nbconvert_exporter": "python",
   "pygments_lexer": "ipython3",
   "version": "3.10.18"
  }
 },
 "nbformat": 4,
 "nbformat_minor": 5
}
