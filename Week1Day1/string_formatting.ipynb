{
 "cells": [
  {
   "cell_type": "code",
   "execution_count": 4,
   "id": "83e570bb",
   "metadata": {},
   "outputs": [
    {
     "name": "stdout",
     "output_type": "stream",
     "text": [
      "My first name is Nazmul, and last name is Shawon\n"
     ]
    }
   ],
   "source": [
    "#String Formatting\n",
    "first_name = \"Nazmul\"\n",
    "last_name = \"Shawon\"\n",
    "\n",
    "print(f\"My first name is {first_name}, and last name is {last_name}\")"
   ]
  },
  {
   "cell_type": "code",
   "execution_count": null,
   "id": "d60ee211",
   "metadata": {},
   "outputs": [],
   "source": []
  },
  {
   "cell_type": "code",
   "execution_count": null,
   "id": "90c765d0",
   "metadata": {},
   "outputs": [],
   "source": []
  },
  {
   "cell_type": "code",
   "execution_count": null,
   "id": "4d6ac6de",
   "metadata": {},
   "outputs": [],
   "source": []
  }
 ],
 "metadata": {
  "kernelspec": {
   "display_name": "mljobVenv",
   "language": "python",
   "name": "python3"
  },
  "language_info": {
   "codemirror_mode": {
    "name": "ipython",
    "version": 3
   },
   "file_extension": ".py",
   "mimetype": "text/x-python",
   "name": "python",
   "nbconvert_exporter": "python",
   "pygments_lexer": "ipython3",
   "version": "3.10.18"
  }
 },
 "nbformat": 4,
 "nbformat_minor": 5
}
