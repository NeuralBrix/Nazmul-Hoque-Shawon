{
 "cells": [
  {
   "cell_type": "code",
   "execution_count": null,
   "id": "ddb13d17",
   "metadata": {},
   "outputs": [
    {
     "name": "stdout",
     "output_type": "stream",
     "text": [
      "Integer =  6\n",
      "Type of x:  <class 'int'>\n",
      "6\n",
      "Type of x after conversion:  <class 'str'>\n",
      "Float =  6.0\n",
      "Type of x:  <class 'float'>\n",
      "Bolean =  False\n",
      "Type of x:  <class 'bool'>\n"
     ]
    }
   ],
   "source": [
    "#Concept of Type casting\n",
    "\n",
    "x = 6\n",
    "print(\"Integer = \", x)\n",
    "print(\"Type of x: \", type(x))\n",
    "\n",
    "x = str(x)\n",
    "print(x)\n",
    "print(\"Type of x after conversion: \", type(x))\n",
    "\n",
    "x = float(x)\n",
    "print(\"Float = \", x)\n",
    "print(\"Type of x: \", type(x))\n",
    "\n",
    "x = 0\n",
    "x = bool(x)\n",
    "print(\"Bolean = \", x)\n",
    "print(\"Type of x: \",type(x))\n"
   ]
  },
  {
   "cell_type": "code",
   "execution_count": 13,
   "id": "6805d718",
   "metadata": {},
   "outputs": [
    {
     "name": "stdout",
     "output_type": "stream",
     "text": [
      "String =  Nazmul Shawon\n",
      "Type of name:  <class 'str'>\n"
     ]
    },
    {
     "ename": "ValueError",
     "evalue": "invalid literal for int() with base 10: 'Nazmul Shawon'",
     "output_type": "error",
     "traceback": [
      "\u001b[1;31m---------------------------------------------------------------------------\u001b[0m",
      "\u001b[1;31mValueError\u001b[0m                                Traceback (most recent call last)",
      "Cell \u001b[1;32mIn[13], line 8\u001b[0m\n\u001b[0;32m      5\u001b[0m \u001b[38;5;28mprint\u001b[39m(\u001b[38;5;124m\"\u001b[39m\u001b[38;5;124mString = \u001b[39m\u001b[38;5;124m\"\u001b[39m, name)\n\u001b[0;32m      6\u001b[0m \u001b[38;5;28mprint\u001b[39m(\u001b[38;5;124m\"\u001b[39m\u001b[38;5;124mType of name: \u001b[39m\u001b[38;5;124m\"\u001b[39m, \u001b[38;5;28mtype\u001b[39m(name))\n\u001b[1;32m----> 8\u001b[0m name \u001b[38;5;241m=\u001b[39m \u001b[38;5;28;43mint\u001b[39;49m\u001b[43m(\u001b[49m\u001b[43mname\u001b[49m\u001b[43m)\u001b[49m                                   \u001b[38;5;66;03m#Here will be an error because it's not possible not convert a string into an integer.\u001b[39;00m\n\u001b[0;32m      9\u001b[0m \u001b[38;5;28mprint\u001b[39m(\u001b[38;5;124m\"\u001b[39m\u001b[38;5;124mInterger = \u001b[39m\u001b[38;5;124m\"\u001b[39m, name)\n\u001b[0;32m     10\u001b[0m \u001b[38;5;28mprint\u001b[39m(\u001b[38;5;124m\"\u001b[39m\u001b[38;5;124mType of name after conversion: \u001b[39m\u001b[38;5;124m\"\u001b[39m, \u001b[38;5;28mtype\u001b[39m(name))\n",
      "\u001b[1;31mValueError\u001b[0m: invalid literal for int() with base 10: 'Nazmul Shawon'"
     ]
    }
   ],
   "source": [
    "# Integer > String [Possible]\n",
    "# String > Integer [Not Possible]\n",
    "\n",
    "name = \"Nazmul Shawon\"\n",
    "print(\"String = \", name)\n",
    "print(\"Type of name: \", type(name))\n",
    "\n",
    "name = int(name)                                   #Here will be an error because it's not possible not convert a string into an integer.\n",
    "print(\"Interger = \", name)\n",
    "print(\"Type of name after conversion: \", type(name))\n"
   ]
  },
  {
   "cell_type": "code",
   "execution_count": null,
   "id": "4a802934",
   "metadata": {},
   "outputs": [],
   "source": []
  },
  {
   "cell_type": "code",
   "execution_count": null,
   "id": "dfe04d05",
   "metadata": {},
   "outputs": [],
   "source": []
  },
  {
   "cell_type": "code",
   "execution_count": null,
   "id": "31515e9e",
   "metadata": {},
   "outputs": [],
   "source": []
  },
  {
   "cell_type": "code",
   "execution_count": null,
   "id": "dbd3c131",
   "metadata": {},
   "outputs": [],
   "source": []
  }
 ],
 "metadata": {
  "kernelspec": {
   "display_name": "mljobVenv",
   "language": "python",
   "name": "python3"
  },
  "language_info": {
   "codemirror_mode": {
    "name": "ipython",
    "version": 3
   },
   "file_extension": ".py",
   "mimetype": "text/x-python",
   "name": "python",
   "nbconvert_exporter": "python",
   "pygments_lexer": "ipython3",
   "version": "3.10.18"
  }
 },
 "nbformat": 4,
 "nbformat_minor": 5
}
