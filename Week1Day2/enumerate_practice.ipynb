{
 "cells": [
  {
   "cell_type": "code",
   "execution_count": 1,
   "id": "05566b4b",
   "metadata": {},
   "outputs": [
    {
     "name": "stdout",
     "output_type": "stream",
     "text": [
      "['Shawon', 'Imran', 'Sifat', 'Heron', 'Tahsin', 'Nur']\n"
     ]
    }
   ],
   "source": [
    "list_1 = [\"Shawon\", \"Imran\", \"Sifat\", \"Heron\", \"Tahsin\", \"Nur\"]\n",
    "print(list_1)"
   ]
  },
  {
   "cell_type": "code",
   "execution_count": 2,
   "id": "4c767df8",
   "metadata": {},
   "outputs": [],
   "source": [
    "# Syntax\n",
    "\n",
    "# for index, value in enumerate(iterable, Start=0)"
   ]
  },
  {
   "cell_type": "code",
   "execution_count": 7,
   "id": "4941c043",
   "metadata": {},
   "outputs": [
    {
     "name": "stdout",
     "output_type": "stream",
     "text": [
      "Index: 0, Value: Shawon\n",
      "Index: 1, Value: Imran\n",
      "Index: 2, Value: Sifat\n",
      "Index: 3, Value: Heron\n",
      "Index: 4, Value: Tahsin\n",
      "Index: 5, Value: Nur\n"
     ]
    }
   ],
   "source": [
    "list_1 = [\"Shawon\", \"Imran\", \"Sifat\", \"Heron\", \"Tahsin\", \"Nur\"]    #index:  [0,1,2,3,4,5]\n",
    "\n",
    "for index, value in enumerate(list_1):\n",
    "    print(f\"Index: {index}, Value: {value}\")"
   ]
  },
  {
   "cell_type": "code",
   "execution_count": 8,
   "id": "02a7e14a",
   "metadata": {},
   "outputs": [
    {
     "name": "stdout",
     "output_type": "stream",
     "text": [
      "Roll No: 1, Name: Shawon\n",
      "Roll No: 2, Name: Imran\n",
      "Roll No: 3, Name: Sifat\n",
      "Roll No: 4, Name: Heron\n",
      "Roll No: 5, Name: Tahsin\n",
      "Roll No: 6, Name: Nur\n"
     ]
    }
   ],
   "source": [
    "list_1 = [\"Shawon\", \"Imran\", \"Sifat\", \"Heron\", \"Tahsin\", \"Nur\"]    #index:  [0,1,2,3,4,5]\n",
    "\n",
    "for index, value in enumerate(list_1, start=1):\n",
    "    print(f\"Roll No: {index}, Name: {value}\")"
   ]
  },
  {
   "cell_type": "code",
   "execution_count": null,
   "id": "544017ff",
   "metadata": {},
   "outputs": [],
   "source": []
  },
  {
   "cell_type": "code",
   "execution_count": null,
   "id": "fecb7e05",
   "metadata": {},
   "outputs": [],
   "source": []
  }
 ],
 "metadata": {
  "kernelspec": {
   "display_name": "mljobVenv",
   "language": "python",
   "name": "python3"
  },
  "language_info": {
   "codemirror_mode": {
    "name": "ipython",
    "version": 3
   },
   "file_extension": ".py",
   "mimetype": "text/x-python",
   "name": "python",
   "nbconvert_exporter": "python",
   "pygments_lexer": "ipython3",
   "version": "3.10.18"
  }
 },
 "nbformat": 4,
 "nbformat_minor": 5
}
