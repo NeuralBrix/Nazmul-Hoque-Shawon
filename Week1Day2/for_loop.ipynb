{
 "cells": [
  {
   "cell_type": "code",
   "execution_count": 2,
   "id": "33144048",
   "metadata": {},
   "outputs": [],
   "source": [
    "# Basic syntax of for loop\n",
    "\n",
    "# for variable in sequence:\n",
    "    # code block (loop body)"
   ]
  },
  {
   "cell_type": "code",
   "execution_count": 4,
   "id": "c0604349",
   "metadata": {},
   "outputs": [
    {
     "name": "stdout",
     "output_type": "stream",
     "text": [
      "True\n",
      "False\n"
     ]
    }
   ],
   "source": [
    "# use of 'in'\n",
    "\n",
    "list1 = [1,2,3,4,5,6,7,8,9]\n",
    "\n",
    "print(5 in list1)\n",
    "print(13 in list1)"
   ]
  },
  {
   "cell_type": "code",
   "execution_count": 8,
   "id": "baba63e9",
   "metadata": {},
   "outputs": [
    {
     "name": "stdout",
     "output_type": "stream",
     "text": [
      "Shawon\n",
      "Heron\n",
      "Imran\n",
      "Sifat\n",
      "Rabbi\n"
     ]
    }
   ],
   "source": [
    "student_name = [\"shawon\", \"heron\", \"imran\", \"sifat\", \"rabbi\"]\n",
    "\n",
    "for name  in student_name:\n",
    "    print(name.title())      # Ekahne title function sob string er first letter k capital kore dibe"
   ]
  },
  {
   "cell_type": "code",
   "execution_count": 13,
   "id": "c7093d9a",
   "metadata": {},
   "outputs": [
    {
     "name": "stdout",
     "output_type": "stream",
     "text": [
      "shawon\n",
      "Shawon\n",
      "heron\n",
      "Heron\n",
      "imran\n",
      "Imran\n",
      "sifat\n",
      "Sifat\n",
      "rabbi\n",
      "Rabbi\n",
      "5\n"
     ]
    },
    {
     "ename": "AttributeError",
     "evalue": "'int' object has no attribute 'title'",
     "output_type": "error",
     "traceback": [
      "\u001b[1;31m---------------------------------------------------------------------------\u001b[0m",
      "\u001b[1;31mAttributeError\u001b[0m                            Traceback (most recent call last)",
      "Cell \u001b[1;32mIn[13], line 5\u001b[0m\n\u001b[0;32m      3\u001b[0m \u001b[38;5;28;01mfor\u001b[39;00m name  \u001b[38;5;129;01min\u001b[39;00m student_name:\n\u001b[0;32m      4\u001b[0m     \u001b[38;5;28mprint\u001b[39m(name) \n\u001b[1;32m----> 5\u001b[0m     \u001b[38;5;28mprint\u001b[39m(\u001b[43mname\u001b[49m\u001b[38;5;241;43m.\u001b[39;49m\u001b[43mtitle\u001b[49m())      \u001b[38;5;66;03m# Ekahne title function sob string er first letter k capital kore dibe\u001b[39;00m\n",
      "\u001b[1;31mAttributeError\u001b[0m: 'int' object has no attribute 'title'"
     ]
    }
   ],
   "source": [
    "student_name = [\"shawon\", \"heron\", \"imran\", \"sifat\", \"rabbi\", 5, True]\n",
    "\n",
    "for name  in student_name:\n",
    "    print(name) \n",
    "    print(name.title())      # Ekahne title function sob string er first letter k capital kore dibe"
   ]
  },
  {
   "cell_type": "code",
   "execution_count": 16,
   "id": "f334b9e6",
   "metadata": {},
   "outputs": [
    {
     "data": {
      "text/plain": [
       "range(0, 5)"
      ]
     },
     "execution_count": 16,
     "metadata": {},
     "output_type": "execute_result"
    }
   ],
   "source": [
    "# range() function\n",
    "\n",
    "# Syntax of Range Function\n",
    "\n",
    "# range(start, stop, step)\n",
    "# Ekhane start and step value optional. Stop value mandatory\n",
    "\n",
    "\n",
    "range(5)\n"
   ]
  },
  {
   "cell_type": "code",
   "execution_count": null,
   "id": "bb415d9f",
   "metadata": {},
   "outputs": [
    {
     "data": {
      "text/plain": [
       "[0, 1, 2, 3, 4, 5, 6, 7, 8, 9]"
      ]
     },
     "execution_count": 18,
     "metadata": {},
     "output_type": "execute_result"
    }
   ],
   "source": [
    "list(range(5))\n"
   ]
  },
  {
   "cell_type": "code",
   "execution_count": 25,
   "id": "7bf510c3",
   "metadata": {},
   "outputs": [
    {
     "data": {
      "text/plain": [
       "[0, 1, 2, 3, 4, 5, 6, 7, 8, 9]"
      ]
     },
     "execution_count": 25,
     "metadata": {},
     "output_type": "execute_result"
    }
   ],
   "source": [
    "list(range(0,10,1))     # stop e joto gula value thakbe tar ag obdi print?count hobe"
   ]
  },
  {
   "cell_type": "code",
   "execution_count": 29,
   "id": "6d0a39dd",
   "metadata": {},
   "outputs": [
    {
     "data": {
      "text/plain": [
       "[2, 4, 6, 8, 10, 12, 14, 16, 18, 20]"
      ]
     },
     "execution_count": 29,
     "metadata": {},
     "output_type": "execute_result"
    }
   ],
   "source": [
    "# printing even number\n",
    "\n",
    "list(range(2,21,2))"
   ]
  },
  {
   "cell_type": "code",
   "execution_count": 30,
   "id": "6647bef0",
   "metadata": {},
   "outputs": [
    {
     "data": {
      "text/plain": [
       "[1, 3, 5, 7, 9, 11, 13, 15, 17, 19]"
      ]
     },
     "execution_count": 30,
     "metadata": {},
     "output_type": "execute_result"
    }
   ],
   "source": [
    "# printing even number\n",
    "\n",
    "list(range(1,20,2))"
   ]
  },
  {
   "cell_type": "code",
   "execution_count": 34,
   "id": "db569ac4",
   "metadata": {},
   "outputs": [
    {
     "name": "stdout",
     "output_type": "stream",
     "text": [
      "100\n",
      "105\n",
      "110\n",
      "115\n",
      "120\n",
      "125\n",
      "130\n",
      "135\n",
      "140\n",
      "145\n",
      "150\n",
      "155\n",
      "160\n",
      "165\n",
      "170\n",
      "175\n",
      "180\n",
      "185\n",
      "190\n",
      "195\n"
     ]
    }
   ],
   "source": [
    "for i in range(100,200,5):\n",
    "    print(i)"
   ]
  },
  {
   "cell_type": "code",
   "execution_count": null,
   "id": "4ee1ed61",
   "metadata": {},
   "outputs": [],
   "source": []
  }
 ],
 "metadata": {
  "kernelspec": {
   "display_name": "mljobVenv",
   "language": "python",
   "name": "python3"
  },
  "language_info": {
   "codemirror_mode": {
    "name": "ipython",
    "version": 3
   },
   "file_extension": ".py",
   "mimetype": "text/x-python",
   "name": "python",
   "nbconvert_exporter": "python",
   "pygments_lexer": "ipython3",
   "version": "3.10.18"
  }
 },
 "nbformat": 4,
 "nbformat_minor": 5
}
