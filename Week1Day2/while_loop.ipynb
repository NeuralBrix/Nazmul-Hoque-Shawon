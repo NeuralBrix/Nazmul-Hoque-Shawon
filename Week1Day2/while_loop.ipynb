{
 "cells": [
  {
   "cell_type": "code",
   "execution_count": 1,
   "id": "667c9d0f",
   "metadata": {},
   "outputs": [
    {
     "name": "stdout",
     "output_type": "stream",
     "text": [
      "Shawon\n",
      "Shawon\n",
      "Shawon\n",
      "Shawon\n",
      "Shawon\n",
      "Shawon\n",
      "Shawon\n",
      "Shawon\n",
      "Shawon\n",
      "Shawon\n"
     ]
    }
   ],
   "source": [
    "for i in range(10):\n",
    "    print(\"Shawon\")"
   ]
  },
  {
   "cell_type": "code",
   "execution_count": 3,
   "id": "97af4734",
   "metadata": {},
   "outputs": [
    {
     "name": "stdout",
     "output_type": "stream",
     "text": [
      "Looping 0 times\n",
      "Looping 1 times\n",
      "Looping 2 times\n",
      "Looping 3 times\n",
      "Looping 4 times\n",
      "Looping 5 times\n",
      "Looping 6 times\n",
      "Looping 7 times\n",
      "Looping 8 times\n",
      "Looping 9 times\n"
     ]
    }
   ],
   "source": [
    "for i in range(10):\n",
    "    print(f\"Looping {i} times\")"
   ]
  },
  {
   "cell_type": "code",
   "execution_count": 4,
   "id": "88842c62",
   "metadata": {},
   "outputs": [],
   "source": [
    "# Syntax of While loop\n",
    "\n",
    "# while condition:\n",
    "#   code to execute"
   ]
  },
  {
   "cell_type": "code",
   "execution_count": 15,
   "id": "d79de684",
   "metadata": {},
   "outputs": [
    {
     "name": "stdout",
     "output_type": "stream",
     "text": [
      "Looping 0 times\n",
      "Looping 1 times\n",
      "Looping 2 times\n",
      "Looping 3 times\n",
      "Looping 4 times\n",
      "Looping 5 times\n",
      "Looping 6 times\n",
      "Looping 7 times\n",
      "Looping 8 times\n",
      "Looping 9 times\n"
     ]
    }
   ],
   "source": [
    "i=0\n",
    "\n",
    "while (i<10):\n",
    "    print(f\"Looping {i} times\")\n",
    "    i+=1\n"
   ]
  },
  {
   "cell_type": "code",
   "execution_count": 16,
   "id": "a1b431cb",
   "metadata": {},
   "outputs": [
    {
     "name": "stdout",
     "output_type": "stream",
     "text": [
      "Shawon\n",
      "Shawon\n",
      "Shawon\n",
      "Shawon\n",
      "Shawon\n",
      "Shawon\n",
      "Shawon\n",
      "Shawon\n",
      "Shawon\n",
      "Shawon\n",
      "Shawon\n"
     ]
    },
    {
     "ename": "KeyboardInterrupt",
     "evalue": "",
     "output_type": "error",
     "traceback": [
      "\u001b[1;31m---------------------------------------------------------------------------\u001b[0m",
      "\u001b[1;31mKeyboardInterrupt\u001b[0m                         Traceback (most recent call last)",
      "Cell \u001b[1;32mIn[16], line 5\u001b[0m\n\u001b[0;32m      3\u001b[0m \u001b[38;5;28;01mwhile\u001b[39;00m \u001b[38;5;28;01mTrue\u001b[39;00m:\n\u001b[0;32m      4\u001b[0m     \u001b[38;5;28mprint\u001b[39m(\u001b[38;5;124m\"\u001b[39m\u001b[38;5;124mShawon\u001b[39m\u001b[38;5;124m\"\u001b[39m)\n\u001b[1;32m----> 5\u001b[0m     \u001b[43mtime\u001b[49m\u001b[38;5;241;43m.\u001b[39;49m\u001b[43msleep\u001b[49m\u001b[43m(\u001b[49m\u001b[38;5;241;43m1\u001b[39;49m\u001b[43m)\u001b[49m\n",
      "\u001b[1;31mKeyboardInterrupt\u001b[0m: "
     ]
    }
   ],
   "source": [
    "import time\n",
    "\n",
    "while True:\n",
    "    print(\"Shawon\")\n",
    "    time.sleep(1)"
   ]
  },
  {
   "cell_type": "code",
   "execution_count": null,
   "id": "49e5beb8",
   "metadata": {},
   "outputs": [],
   "source": []
  },
  {
   "cell_type": "code",
   "execution_count": null,
   "id": "ff2a7975",
   "metadata": {},
   "outputs": [],
   "source": []
  }
 ],
 "metadata": {
  "kernelspec": {
   "display_name": "mljobVenv",
   "language": "python",
   "name": "python3"
  },
  "language_info": {
   "codemirror_mode": {
    "name": "ipython",
    "version": 3
   },
   "file_extension": ".py",
   "mimetype": "text/x-python",
   "name": "python",
   "nbconvert_exporter": "python",
   "pygments_lexer": "ipython3",
   "version": "3.10.18"
  }
 },
 "nbformat": 4,
 "nbformat_minor": 5
}
