{
 "cells": [
  {
   "cell_type": "code",
   "execution_count": 21,
   "id": "3efc1775",
   "metadata": {},
   "outputs": [
    {
     "data": {
      "text/plain": [
       "'\\nThe name of 3 brackets in programming language\\n\\n() -> Parentheses\\n{} -> Curly Braces\\n[] -> Square Brackets\\n\\n'"
      ]
     },
     "execution_count": 21,
     "metadata": {},
     "output_type": "execute_result"
    }
   ],
   "source": [
    "'''\n",
    "The name of 3 brackets in programming language\n",
    "\n",
    "() -> Parentheses\n",
    "{} -> Curly Braces\n",
    "[] -> Square Brackets\n",
    "\n",
    "'''\n"
   ]
  },
  {
   "cell_type": "code",
   "execution_count": 22,
   "id": "a0fe8716",
   "metadata": {},
   "outputs": [
    {
     "data": {
      "text/plain": [
       "'\\n\\nMutable = Changeable (These variables who can be changed after declaration)\\nExample: List,\\n\\nImmutable = Unchangeable (These variables who can not be changed after declaration)\\nExample: Tuple, int, float, str, char, bool, bytes, frozenset\\n\\n'"
      ]
     },
     "execution_count": 22,
     "metadata": {},
     "output_type": "execute_result"
    }
   ],
   "source": [
    "'''\n",
    "\n",
    "Mutable = Changeable (These variables who can be changed after declaration)\n",
    "Example: List,\n",
    "\n",
    "Immutable = Unchangeable (These variables who can not be changed after declaration)\n",
    "Example: Tuple, int, float, str, char, bool, bytes, frozenset\n",
    "\n",
    "'''\n"
   ]
  },
  {
   "cell_type": "code",
   "execution_count": 14,
   "id": "4f16816b",
   "metadata": {},
   "outputs": [
    {
     "name": "stdout",
     "output_type": "stream",
     "text": [
      "(1, 2, 3, 4, 5)\n",
      "(5, 6, 7, 4)\n",
      "10\n",
      "13\n"
     ]
    }
   ],
   "source": [
    "# New value will be counted in a variable if we declare same variable again.\n",
    "\n",
    "tuple_1 = (1,2,3,4,5)\n",
    "print(tuple_1)\n",
    "\n",
    "tuple_1 = (5,6,7,4)\n",
    "print(tuple_1)\n",
    "\n",
    "x = 10\n",
    "print(x)\n",
    "\n",
    "x = 13\n",
    "print(x)"
   ]
  },
  {
   "cell_type": "code",
   "execution_count": 37,
   "id": "baed06dd",
   "metadata": {},
   "outputs": [
    {
     "name": "stdout",
     "output_type": "stream",
     "text": [
      "<class 'tuple'>\n",
      "<class 'set'>\n",
      "<class 'list'> \n",
      "\n",
      "[1, 2, 3, 4, 5]\n"
     ]
    }
   ],
   "source": [
    "# Declaring tuple, set and list data types\n",
    "\n",
    "tup_1 = (1,2,3,4,5)\n",
    "set_1 = {1,2,3,4,5}\n",
    "list_1 = [1,2,3,4,5]\n",
    "\n",
    "print(type(tup_1))\n",
    "print(type(set_1))\n",
    "print(type(list_1), \"\\n\")\n",
    "\n",
    "print(list_1)"
   ]
  },
  {
   "cell_type": "code",
   "execution_count": 41,
   "id": "51a6b9c2",
   "metadata": {},
   "outputs": [
    {
     "name": "stdout",
     "output_type": "stream",
     "text": [
      "[8, 2, 3, 4, 5]\n"
     ]
    }
   ],
   "source": [
    "# List data type is changeable (mutable)\n",
    "\n",
    "list_1[0] = 8\n",
    "print(list_1)\n"
   ]
  },
  {
   "cell_type": "code",
   "execution_count": 43,
   "id": "e9c184f6",
   "metadata": {},
   "outputs": [
    {
     "ename": "TypeError",
     "evalue": "'tuple' object does not support item assignment",
     "output_type": "error",
     "traceback": [
      "\u001b[1;31m---------------------------------------------------------------------------\u001b[0m",
      "\u001b[1;31mTypeError\u001b[0m                                 Traceback (most recent call last)",
      "Cell \u001b[1;32mIn[43], line 3\u001b[0m\n\u001b[0;32m      1\u001b[0m \u001b[38;5;66;03m# tulple data type is unchangeable (immutable)\u001b[39;00m\n\u001b[1;32m----> 3\u001b[0m \u001b[43mtup_1\u001b[49m\u001b[43m[\u001b[49m\u001b[38;5;241;43m0\u001b[39;49m\u001b[43m]\u001b[49m \u001b[38;5;241m=\u001b[39m \u001b[38;5;241m8\u001b[39m\n\u001b[0;32m      4\u001b[0m \u001b[38;5;28mprint\u001b[39m(tup_1)\n",
      "\u001b[1;31mTypeError\u001b[0m: 'tuple' object does not support item assignment"
     ]
    }
   ],
   "source": [
    "# tulple data type is unchangeable (immutable)\n",
    "\n",
    "tup_1[0] = 8\n",
    "print(tup_1)\n"
   ]
  },
  {
   "cell_type": "code",
   "execution_count": 46,
   "id": "8677c2a8",
   "metadata": {},
   "outputs": [
    {
     "name": "stdout",
     "output_type": "stream",
     "text": [
      "True\n",
      "False\n",
      "True\n",
      "False\n",
      "True\n",
      "False\n"
     ]
    }
   ],
   "source": [
    "tup_1 = (1,2,3,4,5)\n",
    "tup_2 = (1,2,3,4,5)\n",
    "\n",
    "set_1 = {1,2,3,4,5}\n",
    "set_2 = {1,2,3,4,5}\n",
    "\n",
    "list_1 = [1,2,3,4,5]\n",
    "list_2 = [1,2,3,4,5]\n",
    "\n",
    "print(tup_1 == tup_2)\n",
    "print(tup_1 is tup_2)\n",
    "\n",
    "print(set_1 == set_2)\n",
    "print(set_1 is set_2)\n",
    "\n",
    "print(list_1 == list_2)\n",
    "print(list_1 is list_2)\n",
    "\n",
    "\n",
    "\n",
    "# That means identity operatior and comparison operator are not same."
   ]
  },
  {
   "cell_type": "code",
   "execution_count": 92,
   "id": "74463086",
   "metadata": {},
   "outputs": [],
   "source": [
    "# Sequence is a concept which means collection of items. "
   ]
  },
  {
   "cell_type": "code",
   "execution_count": 74,
   "id": "d9e8bc4c",
   "metadata": {},
   "outputs": [
    {
     "name": "stdout",
     "output_type": "stream",
     "text": [
      "[1, 2, 3, 4, 5]\n",
      "\n",
      "Second item changed =  [1, 12, 3, 4, 5]\n",
      "\n",
      "New item added in list_dt =  [1, 12, 3, 4, 5, 6]\n",
      "\n",
      "New item added in specific index =  [1, 12, 12.5, 3, 4, 5, 6]\n",
      "\n",
      "New items added in list_dt =  [1, 12, 12.5, 3, 4, 5, 6, 7, 8, 9]\n",
      "\n",
      "Item removed from list_dt =  [1, 12, 3, 4, 5, 6, 7, 8, 9]\n",
      "\n",
      "Item removed from list_dt using pop =  [1, 3, 4, 5, 6, 7, 8, 9]\n",
      "\n",
      "Item removed from list_dt using del =  [1, 3, 5, 6, 7, 8, 9]\n",
      "\n",
      "Clearing the list =  []\n"
     ]
    }
   ],
   "source": [
    "# Mutable chracteristics in List\n",
    "\n",
    "list_dt = [1, 2, 3, 4, 5]\n",
    "print(list_dt)\n",
    "\n",
    "# changing elements using index \n",
    "list_dt[1] = 12\n",
    "print(\"\\nSecond item changed = \", list_dt)\n",
    "\n",
    "# adding new item using append() function (new item will be added in last index)\n",
    "list_dt.append(6)\n",
    "print(\"\\nNew item added in list_dt = \", list_dt)\n",
    "\n",
    "# inserting new item in specific index using insert() function\n",
    "list_dt.insert(2,12.5)    # index 2 এ 12.5 বসানো\n",
    "print(\"\\nNew item added in specific index = \", list_dt)\n",
    "\n",
    "# Adding multiple itmes in list using extend([ ]) function\n",
    "list_dt.extend([7,8,9])\n",
    "print(\"\\nNew items added in list_dt = \", list_dt)\n",
    "\n",
    "# removing item using remove() function\n",
    "list_dt.remove(12.5)\n",
    "print(\"\\nItem removed from list_dt = \", list_dt)\n",
    "\n",
    "# Removing using pop() function\n",
    "list_dt.pop(1)\n",
    "print(\"\\nItem removed from list_dt using pop = \", list_dt)\n",
    "\n",
    "# Deleting item\n",
    "del list_dt[2]\n",
    "print(\"\\nItem removed from list_dt using del = \", list_dt)\n",
    "\n",
    "# clearing List\n",
    "\n",
    "list_dt.clear()\n",
    "print(\"\\nClearing the list = \", list_dt)\n"
   ]
  },
  {
   "cell_type": "code",
   "execution_count": 79,
   "id": "c46bf2a6",
   "metadata": {},
   "outputs": [
    {
     "name": "stdout",
     "output_type": "stream",
     "text": [
      "[1, 2, 3, 4, 6, 7, 9]\n",
      "\n",
      "Sorted list =  [1, 2, 3, 4, 6, 7, 9]\n",
      "\n",
      "Reversed list =  [9, 7, 6, 4, 3, 2, 1]\n"
     ]
    }
   ],
   "source": [
    "# Sorting list using sort() function\n",
    "\n",
    "list_num = [2, 9, 4, 6, 1, 7, 3]\n",
    "list_num.sort()\n",
    "print(list_num)\n",
    "print(\"\\nSorted list = \", list_num)\n",
    "\n",
    "# Reversing List using reverse() function\n",
    "\n",
    "list_num.reverse()\n",
    "print(\"\\nReversed list = \", list_num)"
   ]
  },
  {
   "cell_type": "code",
   "execution_count": null,
   "id": "bef88ee2",
   "metadata": {},
   "outputs": [
    {
     "name": "stdout",
     "output_type": "stream",
     "text": [
      "[10, 13, 18, 27, 44, 55, 76, 98]\n",
      "44\n",
      "[13, 18]\n",
      "[18, 27, 44, 55, 76, 98]\n",
      "[10, 13, 18, 27, 44]\n",
      "[10, 13, 18, 27, 44, 55, 76, 98]\n",
      "55\n",
      "[18, 27, 44, 55, 76, 98]\n"
     ]
    }
   ],
   "source": [
    "# Showing items using indexing\n",
    "\n",
    "list_item = [10,13,18,27,44,55,76,98]\n",
    "print(list_item)\n",
    "\n",
    "print(list_item[4])\n",
    "print(list_item[1:3])   #it will show index 1 to before index 3. That means last limit er age porjonto\n",
    "\n",
    "print(list_item[2: ])\n",
    "print(list_item[ :5])\n",
    "\n",
    "print(list_item[ : ])\n",
    "print(list_item[-3])     # Ekane negetive indexing er khetre 0 theke count na kore -1 theke count hoi.\n",
    "\n",
    "print(list_item[-6:])    # eta mane -6 no index theke last porjonto show kora"
   ]
  },
  {
   "cell_type": "code",
   "execution_count": 90,
   "id": "2c90b793",
   "metadata": {},
   "outputs": [
    {
     "name": "stdout",
     "output_type": "stream",
     "text": [
      "[1, 2, 3, 4, 5]\n",
      "[1, 200, 300, 4, 5]\n"
     ]
    }
   ],
   "source": [
    "# Slicing in List\n",
    "\n",
    "my_list = [1, 2, 3, 4, 5]\n",
    "print(my_list)\n",
    "\n",
    "my_list[1:3] =[200,300]\n",
    "print(my_list)"
   ]
  },
  {
   "cell_type": "code",
   "execution_count": 91,
   "id": "2de28108",
   "metadata": {},
   "outputs": [
    {
     "data": {
      "text/plain": [
       "'\\nList এ change মানে হলো —\\nElement modify করা\\nAdd করা (append, insert, extend)\\nRemove করা (remove, pop, del, clear)\\nReorder করা (sort, reverse)\\nSlice assignment করা\\n\\n'"
      ]
     },
     "execution_count": 91,
     "metadata": {},
     "output_type": "execute_result"
    }
   ],
   "source": [
    "'''\n",
    "List এ change মানে হলো —\n",
    "Element modify করা\n",
    "Add করা (append, insert, extend)\n",
    "Remove করা (remove, pop, del, clear)\n",
    "Reorder করা (sort, reverse)\n",
    "Slice assignment করা\n",
    "\n",
    "'''"
   ]
  },
  {
   "cell_type": "code",
   "execution_count": null,
   "id": "46b81abb",
   "metadata": {},
   "outputs": [],
   "source": []
  }
 ],
 "metadata": {
  "kernelspec": {
   "display_name": "mljobVenv",
   "language": "python",
   "name": "python3"
  },
  "language_info": {
   "codemirror_mode": {
    "name": "ipython",
    "version": 3
   },
   "file_extension": ".py",
   "mimetype": "text/x-python",
   "name": "python",
   "nbconvert_exporter": "python",
   "pygments_lexer": "ipython3",
   "version": "3.10.18"
  }
 },
 "nbformat": 4,
 "nbformat_minor": 5
}
