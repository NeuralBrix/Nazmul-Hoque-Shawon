{
 "cells": [
  {
   "cell_type": "code",
   "execution_count": 2,
   "id": "9c0efee6",
   "metadata": {},
   "outputs": [
    {
     "name": "stdout",
     "output_type": "stream",
     "text": [
      "You have already passed your half life!\n"
     ]
    }
   ],
   "source": [
    "age = 35\n",
    "\n",
    "if age>=30:\n",
    "    print(\"You have already passed your half life!\")"
   ]
  },
  {
   "cell_type": "code",
   "execution_count": 13,
   "id": "9464a268",
   "metadata": {},
   "outputs": [
    {
     "name": "stdout",
     "output_type": "stream",
     "text": [
      "You are still young!\n"
     ]
    }
   ],
   "source": [
    "age = 25\n",
    "\n",
    "if age>=30:\n",
    "    print(\"You have already passed your half life!\")\n",
    "else:\n",
    "    print(\"You are still young!\")\n",
    "\n",
    "\n",
    "# Note:\n",
    "# If we don't maintain the alignment of print, then it will be an Indentation Error"
   ]
  },
  {
   "cell_type": "code",
   "execution_count": 24,
   "id": "fb5e168c",
   "metadata": {},
   "outputs": [
    {
     "name": "stdout",
     "output_type": "stream",
     "text": [
      "Your Ticket Prisce is $ 25\n"
     ]
    }
   ],
   "source": [
    "age = 13\n",
    "\n",
    "if age < 5:\n",
    "    price = 0\n",
    "elif age < 18:\n",
    "    price = 25\n",
    "else:\n",
    "    price = 40\n",
    "\n",
    "print(\"Your Ticket Prisce is $\", price)"
   ]
  },
  {
   "cell_type": "code",
   "execution_count": null,
   "id": "fb923bd1",
   "metadata": {},
   "outputs": [],
   "source": [
    "#Comparison Operator\n",
    "\n",
    "# == Equal to\n",
    "# != Not equal to\n",
    "# > greater than\n",
    "# < less than\n",
    "# >= greater than or equal\n",
    "# <= less than or equal"
   ]
  },
  {
   "cell_type": "code",
   "execution_count": 1,
   "id": "84fd9b04",
   "metadata": {},
   "outputs": [
    {
     "name": "stdout",
     "output_type": "stream",
     "text": [
      "True\n",
      "False\n"
     ]
    }
   ],
   "source": [
    "car = 'bmw'\n",
    "\n",
    "print(car == 'bmw')\n",
    "print(car != 'bmw')"
   ]
  },
  {
   "cell_type": "code",
   "execution_count": 3,
   "id": "98e9ebe9",
   "metadata": {},
   "outputs": [
    {
     "name": "stdout",
     "output_type": "stream",
     "text": [
      "True\n",
      "True\n",
      "True\n",
      "True\n",
      "False\n",
      "True\n"
     ]
    }
   ],
   "source": [
    "age = 25\n",
    "\n",
    "print(age == 25)\n",
    "print(age != 34)\n",
    "print(age >= 25)\n",
    "print(age <= 34)\n",
    "print(age > 34)\n",
    "print(age < 34)"
   ]
  },
  {
   "cell_type": "code",
   "execution_count": 6,
   "id": "2b0a9a91",
   "metadata": {},
   "outputs": [
    {
     "name": "stdout",
     "output_type": "stream",
     "text": [
      "0\n",
      "1\n",
      "2\n",
      "1\n"
     ]
    }
   ],
   "source": [
    "# Logical Operator\n",
    "# and, or not\n",
    "\n",
    "# and seems like * (Multiplication)\n",
    "# or seems like + (Addition)\n",
    "\n",
    "#logic of and operator\n",
    "print(1*0)\n",
    "print(1*1)\n",
    "\n",
    "\n",
    "#logic of or operator\n",
    "print(1+1)\n",
    "print(1+0)\n",
    "\n",
    "\n",
    "#Note: In python, 0 means false and 1 means True.... without 0, anything will be True"
   ]
  },
  {
   "cell_type": "code",
   "execution_count": null,
   "id": "1cfc6437",
   "metadata": {},
   "outputs": [
    {
     "name": "stdout",
     "output_type": "stream",
     "text": [
      "True\n",
      "False\n",
      "False\n",
      "True\n"
     ]
    }
   ],
   "source": [
    "age = 65\n",
    "\n",
    "print(age >= 32 and age <=70)      #Both condition have to be True\n",
    "print(age >= 32 and age <=60)\n",
    "print(age == 25 or age <=40)       #If at least one condiotion is True, then it will be True\n",
    "print(age == 65 or age <=40)"
   ]
  },
  {
   "cell_type": "code",
   "execution_count": 11,
   "id": "1bf05723",
   "metadata": {},
   "outputs": [
    {
     "name": "stdout",
     "output_type": "stream",
     "text": [
      "True\n",
      "False\n"
     ]
    }
   ],
   "source": [
    "# Logical not operator\n",
    "\n",
    "x = True\n",
    "print(x)\n",
    "x = not x\n",
    "print(x)"
   ]
  },
  {
   "cell_type": "code",
   "execution_count": 12,
   "id": "6c9f18fe",
   "metadata": {},
   "outputs": [
    {
     "name": "stdout",
     "output_type": "stream",
     "text": [
      "5\n",
      "False\n"
     ]
    }
   ],
   "source": [
    "x = 5\n",
    "print(x)\n",
    "x = not x\n",
    "print(x)"
   ]
  },
  {
   "cell_type": "code",
   "execution_count": 3,
   "id": "5b022370",
   "metadata": {},
   "outputs": [
    {
     "name": "stdout",
     "output_type": "stream",
     "text": [
      "True\n",
      "True\n",
      "True\n",
      "False\n",
      "True\n"
     ]
    }
   ],
   "source": [
    "#Identity Operator\n",
    "# is, is not\n",
    "\n",
    "x = 10\n",
    "y = 10\n",
    "\n",
    "print(x == y)\n",
    "print( x is y)\n",
    "\n",
    "#Both will show True, But they are not same thing. They show same result for integer value. \n",
    "# But in case of List, it indicates different things\n",
    "# == and != are the comparison between values.\n",
    "# is, is not are the comparison between memory allocation. That means if both are in same location or not.\n",
    "\n",
    "List1 = [1,2,3]\n",
    "List2 = List1\n",
    "List3 = [1,2,3]\n",
    "\n",
    "print(List1 is List2)\n",
    "print(List1 is List3)    #Here in List1 and List3 value same, But they belong into different memory location.\n",
    "print(List1 == List3)\n"
   ]
  }
 ],
 "metadata": {
  "kernelspec": {
   "display_name": "mljobVenv",
   "language": "python",
   "name": "python3"
  },
  "language_info": {
   "codemirror_mode": {
    "name": "ipython",
    "version": 3
   },
   "file_extension": ".py",
   "mimetype": "text/x-python",
   "name": "python",
   "nbconvert_exporter": "python",
   "pygments_lexer": "ipython3",
   "version": "3.10.18"
  }
 },
 "nbformat": 4,
 "nbformat_minor": 5
}
