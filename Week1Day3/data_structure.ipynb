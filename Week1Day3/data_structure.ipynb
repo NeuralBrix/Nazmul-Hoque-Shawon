{
 "cells": [
  {
   "cell_type": "code",
   "execution_count": 1,
   "id": "b5573c2e",
   "metadata": {},
   "outputs": [],
   "source": [
    "# Declaring list\n",
    "\n",
    "l = []\n",
    "\n",
    "l_1 = list()"
   ]
  },
  {
   "cell_type": "code",
   "execution_count": 2,
   "id": "7bdb00ec",
   "metadata": {},
   "outputs": [],
   "source": [
    "list_1 = [\"Shawon\", \"Imran\", \"Sifat\", \"Heron\", \"Rabbi\"]"
   ]
  },
  {
   "cell_type": "code",
   "execution_count": 3,
   "id": "df677e3c",
   "metadata": {},
   "outputs": [
    {
     "data": {
      "text/plain": [
       "['Shawon', 'Imran', 'Sifat', 'Heron', 'Rabbi']"
      ]
     },
     "execution_count": 3,
     "metadata": {},
     "output_type": "execute_result"
    }
   ],
   "source": [
    "list_1"
   ]
  },
  {
   "cell_type": "code",
   "execution_count": null,
   "id": "357d4676",
   "metadata": {},
   "outputs": [
    {
     "name": "stdout",
     "output_type": "stream",
     "text": [
      "['Shawon', 'Imran', 'Sifat', 'Heron', 'Rabbi', 'Nur', 'Nur', 'Nur', 'Nur', 'Nur']\n"
     ]
    }
   ],
   "source": [
    "list_1.append(\"Nur\")"
   ]
  },
  {
   "cell_type": "code",
   "execution_count": 10,
   "id": "f2e3aa9e",
   "metadata": {},
   "outputs": [
    {
     "data": {
      "text/plain": [
       "['Shawon',\n",
       " 'Imran',\n",
       " 'Emon',\n",
       " 'Emon',\n",
       " 'Sifat',\n",
       " 'Heron',\n",
       " 'Rabbi',\n",
       " 'Nur',\n",
       " 'Nur',\n",
       " 'Nur',\n",
       " 'Nur',\n",
       " 'Nur']"
      ]
     },
     "execution_count": 10,
     "metadata": {},
     "output_type": "execute_result"
    }
   ],
   "source": [
    "list_1.insert(2, \"Emon\")\n",
    "list_1"
   ]
  },
  {
   "cell_type": "code",
   "execution_count": null,
   "id": "0eeca269",
   "metadata": {},
   "outputs": [
    {
     "data": {
      "text/plain": [
       "'Nur'"
      ]
     },
     "execution_count": 11,
     "metadata": {},
     "output_type": "execute_result"
    }
   ],
   "source": [
    "list_1.pop()      #pop function LIFO mene chole...pop() nijer moddhe last value ta k rekeh dei jeta amra variable e rekhe further use korte pari\n",
    "\n"
   ]
  },
  {
   "cell_type": "code",
   "execution_count": 13,
   "id": "ae34f631",
   "metadata": {},
   "outputs": [
    {
     "name": "stdout",
     "output_type": "stream",
     "text": [
      "Nur\n"
     ]
    }
   ],
   "source": [
    "last_name = list_1.pop()\n",
    "print(last_name)"
   ]
  },
  {
   "cell_type": "code",
   "execution_count": 16,
   "id": "9cfc11d1",
   "metadata": {},
   "outputs": [
    {
     "data": {
      "text/plain": [
       "['Shawon', 'Imran', 'Emon', 'Emon', 'Sifat', 'Nur']"
      ]
     },
     "execution_count": 16,
     "metadata": {},
     "output_type": "execute_result"
    }
   ],
   "source": [
    "del list_1[5]\n",
    "list_1"
   ]
  },
  {
   "cell_type": "code",
   "execution_count": 18,
   "id": "c1d62a32",
   "metadata": {},
   "outputs": [
    {
     "data": {
      "text/plain": [
       "[3, 4, 5]"
      ]
     },
     "execution_count": 18,
     "metadata": {},
     "output_type": "execute_result"
    }
   ],
   "source": [
    "# List Slicing\n",
    "\n",
    "# Syntax\n",
    "# list_name[start, end, step]             Here, step is optional. Default step is 1\n",
    "\n",
    "list_2 = [1,2,3,4,5,6,7,8,9]\n",
    "\n",
    "list_2[2:5]"
   ]
  },
  {
   "cell_type": "code",
   "execution_count": 20,
   "id": "28b0afcc",
   "metadata": {},
   "outputs": [
    {
     "data": {
      "text/plain": [
       "[2, 4, 6]"
      ]
     },
     "execution_count": 20,
     "metadata": {},
     "output_type": "execute_result"
    }
   ],
   "source": [
    "list_2[1:6:2]"
   ]
  },
  {
   "cell_type": "code",
   "execution_count": 24,
   "id": "17d75167",
   "metadata": {},
   "outputs": [
    {
     "name": "stdout",
     "output_type": "stream",
     "text": [
      "[1, 2, 3, 4, 5]\n",
      "[6, 7, 8, 9]\n"
     ]
    }
   ],
   "source": [
    "print(list_2[0:5])\n",
    "print(list_2[5:9])"
   ]
  },
  {
   "cell_type": "code",
   "execution_count": 26,
   "id": "38da000c",
   "metadata": {},
   "outputs": [],
   "source": [
    "list_3 = [1,2,3,4,5,6,7,8,9,10,11,12,13,14]"
   ]
  },
  {
   "cell_type": "code",
   "execution_count": 27,
   "id": "7f2fc893",
   "metadata": {},
   "outputs": [
    {
     "data": {
      "text/plain": [
       "[3, 4, 5, 6, 7]"
      ]
     },
     "execution_count": 27,
     "metadata": {},
     "output_type": "execute_result"
    }
   ],
   "source": [
    "list_3[2:7]"
   ]
  },
  {
   "cell_type": "code",
   "execution_count": null,
   "id": "1e2c3690",
   "metadata": {},
   "outputs": [
    {
     "data": {
      "text/plain": [
       "[]"
      ]
     },
     "execution_count": 28,
     "metadata": {},
     "output_type": "execute_result"
    }
   ],
   "source": [
    "list_3[-5:-7]      # negetive index e -5 boro and -7 chuto"
   ]
  },
  {
   "cell_type": "code",
   "execution_count": 29,
   "id": "36b6f27b",
   "metadata": {},
   "outputs": [
    {
     "data": {
      "text/plain": [
       "[6, 7, 8, 9, 10, 11]"
      ]
     },
     "execution_count": 29,
     "metadata": {},
     "output_type": "execute_result"
    }
   ],
   "source": [
    "list_3[-9:-3]"
   ]
  },
  {
   "cell_type": "code",
   "execution_count": 30,
   "id": "400dbc7b",
   "metadata": {},
   "outputs": [
    {
     "data": {
      "text/plain": [
       "[1, 2, 3, 4, 5, 6, 7, 8, 9]"
      ]
     },
     "execution_count": 30,
     "metadata": {},
     "output_type": "execute_result"
    }
   ],
   "source": [
    "list_3[-14:9]"
   ]
  },
  {
   "cell_type": "code",
   "execution_count": null,
   "id": "ee8dd081",
   "metadata": {},
   "outputs": [
    {
     "data": {
      "text/plain": [
       "[14, 13, 12, 11, 10, 9, 8, 7, 6, 5, 4, 3, 2, 1]"
      ]
     },
     "execution_count": 31,
     "metadata": {},
     "output_type": "execute_result"
    }
   ],
   "source": [
    "list_3[::-1]     #reverse kora"
   ]
  },
  {
   "cell_type": "code",
   "execution_count": 34,
   "id": "50fc26f2",
   "metadata": {},
   "outputs": [
    {
     "data": {
      "text/plain": [
       "[6, 5, 4, 3, 2]"
      ]
     },
     "execution_count": 34,
     "metadata": {},
     "output_type": "execute_result"
    }
   ],
   "source": [
    "list_3[5:0:-1]   "
   ]
  },
  {
   "cell_type": "code",
   "execution_count": null,
   "id": "2c0a2213",
   "metadata": {},
   "outputs": [],
   "source": []
  }
 ],
 "metadata": {
  "kernelspec": {
   "display_name": "mljobVenv",
   "language": "python",
   "name": "python3"
  },
  "language_info": {
   "codemirror_mode": {
    "name": "ipython",
    "version": 3
   },
   "file_extension": ".py",
   "mimetype": "text/x-python",
   "name": "python",
   "nbconvert_exporter": "python",
   "pygments_lexer": "ipython3",
   "version": "3.10.18"
  }
 },
 "nbformat": 4,
 "nbformat_minor": 5
}
